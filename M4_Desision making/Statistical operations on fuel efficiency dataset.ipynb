{
 "cells": [
  {
   "cell_type": "markdown",
   "id": "73ccc9ff",
   "metadata": {},
   "source": [
    "Idendify and import libraries/packages\n",
    "\n",
    "pandas\n",
    "numpy - numerical python\n",
    "scipy - scientific python \n",
    "matplotlib\n",
    "OS"
   ]
  },
  {
   "cell_type": "code",
   "execution_count": 1,
   "id": "8105eaae",
   "metadata": {},
   "outputs": [],
   "source": [
    "import pandas as pd            # impoting pandas and numpy\n",
    "import numpy as np"
   ]
  },
  {
   "cell_type": "code",
   "execution_count": 2,
   "id": "ab8fa1fe",
   "metadata": {},
   "outputs": [],
   "source": [
    "from scipy import stats as st                 \n",
    "from matplotlib import pyplot as plt\n",
    "import os                           # import scipy, matplotlib and os"
   ]
  },
  {
   "cell_type": "markdown",
   "id": "3d71bd93",
   "metadata": {},
   "source": [
    "### Working directory\n",
    "                    The location where file to save. \n",
    "                    "
   ]
  },
  {
   "cell_type": "code",
   "execution_count": 3,
   "id": "dd3a2f2c",
   "metadata": {},
   "outputs": [
    {
     "data": {
      "text/plain": [
       "'C:\\\\Users\\\\arun'"
      ]
     },
     "execution_count": 3,
     "metadata": {},
     "output_type": "execute_result"
    }
   ],
   "source": [
    "os.getcwd()"
   ]
  },
  {
   "cell_type": "code",
   "execution_count": 4,
   "id": "0af57515",
   "metadata": {},
   "outputs": [
    {
     "data": {
      "text/plain": [
       "'F:\\\\Skillenable\\\\Data frames'"
      ]
     },
     "execution_count": 4,
     "metadata": {},
     "output_type": "execute_result"
    }
   ],
   "source": [
    "os.chdir('F:\\Skillenable\\Data frames')   # changed the working directory\n",
    "os.getcwd()"
   ]
  },
  {
   "cell_type": "code",
   "execution_count": 5,
   "id": "b3c9ac2b",
   "metadata": {},
   "outputs": [
    {
     "data": {
      "text/html": [
       "<div>\n",
       "<style scoped>\n",
       "    .dataframe tbody tr th:only-of-type {\n",
       "        vertical-align: middle;\n",
       "    }\n",
       "\n",
       "    .dataframe tbody tr th {\n",
       "        vertical-align: top;\n",
       "    }\n",
       "\n",
       "    .dataframe thead th {\n",
       "        text-align: right;\n",
       "    }\n",
       "</style>\n",
       "<table border=\"1\" class=\"dataframe\">\n",
       "  <thead>\n",
       "    <tr style=\"text-align: right;\">\n",
       "      <th></th>\n",
       "      <th>MAKE</th>\n",
       "      <th>MODEL</th>\n",
       "      <th>VEHICLECLASS</th>\n",
       "      <th>ENGINESIZE</th>\n",
       "      <th>CYLINDERS</th>\n",
       "      <th>FUELCONSUMPTION_CITY</th>\n",
       "      <th>FUELCONSUMPTION_HWY</th>\n",
       "      <th>FUELCONSUMPTION_COMB</th>\n",
       "      <th>FUELCONSUMPTION_COMB_MPG</th>\n",
       "      <th>CO2EMISSIONS</th>\n",
       "    </tr>\n",
       "  </thead>\n",
       "  <tbody>\n",
       "    <tr>\n",
       "      <th>0</th>\n",
       "      <td>ACURA</td>\n",
       "      <td>ILX</td>\n",
       "      <td>COMPACT</td>\n",
       "      <td>2.0</td>\n",
       "      <td>4</td>\n",
       "      <td>9.9</td>\n",
       "      <td>6.7</td>\n",
       "      <td>8.5</td>\n",
       "      <td>33</td>\n",
       "      <td>196</td>\n",
       "    </tr>\n",
       "    <tr>\n",
       "      <th>1</th>\n",
       "      <td>ACURA</td>\n",
       "      <td>ILX</td>\n",
       "      <td>COMPACT</td>\n",
       "      <td>2.4</td>\n",
       "      <td>4</td>\n",
       "      <td>11.2</td>\n",
       "      <td>7.7</td>\n",
       "      <td>9.6</td>\n",
       "      <td>29</td>\n",
       "      <td>221</td>\n",
       "    </tr>\n",
       "    <tr>\n",
       "      <th>2</th>\n",
       "      <td>ACURA</td>\n",
       "      <td>ILX HYBRID</td>\n",
       "      <td>COMPACT</td>\n",
       "      <td>1.5</td>\n",
       "      <td>4</td>\n",
       "      <td>6.0</td>\n",
       "      <td>5.8</td>\n",
       "      <td>5.9</td>\n",
       "      <td>48</td>\n",
       "      <td>136</td>\n",
       "    </tr>\n",
       "    <tr>\n",
       "      <th>3</th>\n",
       "      <td>ACURA</td>\n",
       "      <td>MDX 4WD</td>\n",
       "      <td>SUV - SMALL</td>\n",
       "      <td>3.5</td>\n",
       "      <td>6</td>\n",
       "      <td>12.7</td>\n",
       "      <td>9.1</td>\n",
       "      <td>11.1</td>\n",
       "      <td>25</td>\n",
       "      <td>255</td>\n",
       "    </tr>\n",
       "    <tr>\n",
       "      <th>4</th>\n",
       "      <td>ACURA</td>\n",
       "      <td>RDX AWD</td>\n",
       "      <td>SUV - SMALL</td>\n",
       "      <td>3.5</td>\n",
       "      <td>6</td>\n",
       "      <td>12.1</td>\n",
       "      <td>8.7</td>\n",
       "      <td>10.6</td>\n",
       "      <td>27</td>\n",
       "      <td>244</td>\n",
       "    </tr>\n",
       "  </tbody>\n",
       "</table>\n",
       "</div>"
      ],
      "text/plain": [
       "    MAKE       MODEL VEHICLECLASS  ENGINESIZE  CYLINDERS  \\\n",
       "0  ACURA         ILX      COMPACT         2.0          4   \n",
       "1  ACURA         ILX      COMPACT         2.4          4   \n",
       "2  ACURA  ILX HYBRID      COMPACT         1.5          4   \n",
       "3  ACURA     MDX 4WD  SUV - SMALL         3.5          6   \n",
       "4  ACURA     RDX AWD  SUV - SMALL         3.5          6   \n",
       "\n",
       "   FUELCONSUMPTION_CITY  FUELCONSUMPTION_HWY  FUELCONSUMPTION_COMB  \\\n",
       "0                   9.9                  6.7                   8.5   \n",
       "1                  11.2                  7.7                   9.6   \n",
       "2                   6.0                  5.8                   5.9   \n",
       "3                  12.7                  9.1                  11.1   \n",
       "4                  12.1                  8.7                  10.6   \n",
       "\n",
       "   FUELCONSUMPTION_COMB_MPG  CO2EMISSIONS  \n",
       "0                        33           196  \n",
       "1                        29           221  \n",
       "2                        48           136  \n",
       "3                        25           255  \n",
       "4                        27           244  "
      ]
     },
     "execution_count": 5,
     "metadata": {},
     "output_type": "execute_result"
    }
   ],
   "source": [
    "fuel = pd.read_csv('FuelConsumption.csv')\n",
    "fuel.head()"
   ]
  },
  {
   "cell_type": "markdown",
   "id": "fee0fd85",
   "metadata": {},
   "source": [
    "Descriptive stats\n",
    "* Meaning of central tendancy\n",
    "* Measures og dispersion\n",
    "* Quartiles using box plot\n",
    "* data distribution and skewness\n",
    "* correlation and causation"
   ]
  },
  {
   "cell_type": "markdown",
   "id": "8f1d0bf6",
   "metadata": {},
   "source": [
    "# Measures of central tendancy\n",
    "Mean: average= sum of all obs / no of observation\n",
    "Median: the middle value of sorted data\n",
    "mde: most repeatad value\n"
   ]
  },
  {
   "cell_type": "code",
   "execution_count": 6,
   "id": "b0fcdf1c",
   "metadata": {},
   "outputs": [
    {
     "data": {
      "text/plain": [
       "256.2286785379569"
      ]
     },
     "execution_count": 6,
     "metadata": {},
     "output_type": "execute_result"
    }
   ],
   "source": [
    "# CO2emmision\n",
    "# np.mean()\n",
    "np.mean(fuel['CO2EMISSIONS'])"
   ]
  },
  {
   "cell_type": "code",
   "execution_count": 7,
   "id": "72356f7b",
   "metadata": {},
   "outputs": [
    {
     "data": {
      "text/plain": [
       "256.2286785379569"
      ]
     },
     "execution_count": 7,
     "metadata": {},
     "output_type": "execute_result"
    }
   ],
   "source": [
    "np.mean(fuel.CO2EMISSIONS)"
   ]
  },
  {
   "cell_type": "code",
   "execution_count": 8,
   "id": "98225374",
   "metadata": {},
   "outputs": [
    {
     "data": {
      "text/plain": [
       "(1067, 10)"
      ]
     },
     "execution_count": 8,
     "metadata": {},
     "output_type": "execute_result"
    }
   ],
   "source": [
    "fuel.shape"
   ]
  },
  {
   "cell_type": "code",
   "execution_count": 9,
   "id": "3bc9ff78",
   "metadata": {},
   "outputs": [
    {
     "data": {
      "text/plain": [
       "251.0"
      ]
     },
     "execution_count": 9,
     "metadata": {},
     "output_type": "execute_result"
    }
   ],
   "source": [
    "# Median\n",
    "np.median(fuel.CO2EMISSIONS)"
   ]
  },
  {
   "cell_type": "code",
   "execution_count": 10,
   "id": "d162865a",
   "metadata": {},
   "outputs": [
    {
     "data": {
      "text/plain": [
       "12.6"
      ]
     },
     "execution_count": 10,
     "metadata": {},
     "output_type": "execute_result"
    }
   ],
   "source": [
    "np.median(fuel.FUELCONSUMPTION_CITY)"
   ]
  },
  {
   "cell_type": "code",
   "execution_count": 11,
   "id": "a9c761b2",
   "metadata": {},
   "outputs": [
    {
     "data": {
      "text/plain": [
       "ModeResult(mode=array([2.]), count=array([158]))"
      ]
     },
     "execution_count": 11,
     "metadata": {},
     "output_type": "execute_result"
    }
   ],
   "source": [
    "#MODE\n",
    "\n",
    "st.mode(fuel.ENGINESIZE)"
   ]
  },
  {
   "cell_type": "code",
   "execution_count": 12,
   "id": "04191322",
   "metadata": {},
   "outputs": [
    {
     "name": "stdout",
     "output_type": "stream",
     "text": [
      "The most preferred engine sixe is 2.0 and is repeated 158 times.\n"
     ]
    }
   ],
   "source": [
    "fuel_enginesize = st.mode(fuel.ENGINESIZE)\n",
    "print(\"The most preferred engine sixe is {} and is repeated {} times.\" . format(fuel_enginesize.mode[0], fuel_enginesize.count[0]))"
   ]
  },
  {
   "cell_type": "markdown",
   "id": "b3f6e9e2",
   "metadata": {},
   "source": []
  },
  {
   "cell_type": "markdown",
   "id": "1e8bc52e",
   "metadata": {},
   "source": [
    "# Measure of variation/dispersion\n",
    "Range:  DIfference between the max and the min value\n",
    "standard deviation: Average deviation from the mean value\n",
    "variance: std^2\n"
   ]
  },
  {
   "cell_type": "code",
   "execution_count": 13,
   "id": "35d24bf7",
   "metadata": {},
   "outputs": [],
   "source": [
    "# STANDARD Deviation\n",
    "# EG. ## 5.5ft average\n",
    "      ## 5ft, 6ft\n",
    "    ### deviation of each person height from 5ft to 6ft\n",
    "    ## Average of deviation of all people is standard deviation\n",
    "    \n"
   ]
  },
  {
   "cell_type": "code",
   "execution_count": 14,
   "id": "3614d200",
   "metadata": {},
   "outputs": [
    {
     "data": {
      "text/plain": [
       "63.34260099404251"
      ]
     },
     "execution_count": 14,
     "metadata": {},
     "output_type": "execute_result"
    }
   ],
   "source": [
    "np.std(fuel.CO2EMISSIONS)"
   ]
  },
  {
   "cell_type": "code",
   "execution_count": 15,
   "id": "16899b91",
   "metadata": {
    "scrolled": true
   },
   "outputs": [
    {
     "data": {
      "text/plain": [
       "4012.2851006904757"
      ]
     },
     "execution_count": 15,
     "metadata": {},
     "output_type": "execute_result"
    }
   ],
   "source": [
    "# Varience\n",
    "np.var(fuel.CO2EMISSIONS)"
   ]
  },
  {
   "cell_type": "code",
   "execution_count": 16,
   "id": "d2b154be",
   "metadata": {},
   "outputs": [
    {
     "data": {
      "text/plain": [
       "4012.2851006904757"
      ]
     },
     "execution_count": 16,
     "metadata": {},
     "output_type": "execute_result"
    }
   ],
   "source": [
    "std = np.std(fuel.CO2EMISSIONS)\n",
    "std * std"
   ]
  },
  {
   "cell_type": "code",
   "execution_count": 17,
   "id": "1abd797b",
   "metadata": {},
   "outputs": [
    {
     "data": {
      "text/plain": [
       "380"
      ]
     },
     "execution_count": 17,
     "metadata": {},
     "output_type": "execute_result"
    }
   ],
   "source": [
    "#range\n",
    "# using point to point function\n",
    "\n",
    "np.ptp(fuel.CO2EMISSIONS)\n"
   ]
  },
  {
   "cell_type": "code",
   "execution_count": 18,
   "id": "09624dd2",
   "metadata": {},
   "outputs": [
    {
     "name": "stdout",
     "output_type": "stream",
     "text": [
      "108\n",
      "488\n",
      "380\n"
     ]
    }
   ],
   "source": [
    "# finding min and max values\n",
    "min = np.min(fuel.CO2EMISSIONS)\n",
    "max = np.max(fuel.CO2EMISSIONS)\n",
    "print(min)\n",
    "print(max)\n",
    "print(max-min)"
   ]
  },
  {
   "cell_type": "code",
   "execution_count": 19,
   "id": "343ccddb",
   "metadata": {},
   "outputs": [
    {
     "data": {
      "text/html": [
       "<div>\n",
       "<style scoped>\n",
       "    .dataframe tbody tr th:only-of-type {\n",
       "        vertical-align: middle;\n",
       "    }\n",
       "\n",
       "    .dataframe tbody tr th {\n",
       "        vertical-align: top;\n",
       "    }\n",
       "\n",
       "    .dataframe thead th {\n",
       "        text-align: right;\n",
       "    }\n",
       "</style>\n",
       "<table border=\"1\" class=\"dataframe\">\n",
       "  <thead>\n",
       "    <tr style=\"text-align: right;\">\n",
       "      <th></th>\n",
       "      <th>ENGINESIZE</th>\n",
       "      <th>CYLINDERS</th>\n",
       "      <th>FUELCONSUMPTION_CITY</th>\n",
       "      <th>FUELCONSUMPTION_HWY</th>\n",
       "      <th>FUELCONSUMPTION_COMB</th>\n",
       "      <th>FUELCONSUMPTION_COMB_MPG</th>\n",
       "      <th>CO2EMISSIONS</th>\n",
       "    </tr>\n",
       "  </thead>\n",
       "  <tbody>\n",
       "    <tr>\n",
       "      <th>count</th>\n",
       "      <td>1067.000000</td>\n",
       "      <td>1067.000000</td>\n",
       "      <td>1067.000000</td>\n",
       "      <td>1067.000000</td>\n",
       "      <td>1067.000000</td>\n",
       "      <td>1067.000000</td>\n",
       "      <td>1067.000000</td>\n",
       "    </tr>\n",
       "    <tr>\n",
       "      <th>mean</th>\n",
       "      <td>3.346298</td>\n",
       "      <td>5.794752</td>\n",
       "      <td>13.296532</td>\n",
       "      <td>9.474602</td>\n",
       "      <td>11.580881</td>\n",
       "      <td>26.441425</td>\n",
       "      <td>256.228679</td>\n",
       "    </tr>\n",
       "    <tr>\n",
       "      <th>std</th>\n",
       "      <td>1.415895</td>\n",
       "      <td>1.797447</td>\n",
       "      <td>4.101253</td>\n",
       "      <td>2.794510</td>\n",
       "      <td>3.485595</td>\n",
       "      <td>7.468702</td>\n",
       "      <td>63.372304</td>\n",
       "    </tr>\n",
       "    <tr>\n",
       "      <th>min</th>\n",
       "      <td>1.000000</td>\n",
       "      <td>3.000000</td>\n",
       "      <td>4.600000</td>\n",
       "      <td>4.900000</td>\n",
       "      <td>4.700000</td>\n",
       "      <td>11.000000</td>\n",
       "      <td>108.000000</td>\n",
       "    </tr>\n",
       "    <tr>\n",
       "      <th>25%</th>\n",
       "      <td>2.000000</td>\n",
       "      <td>4.000000</td>\n",
       "      <td>10.250000</td>\n",
       "      <td>7.500000</td>\n",
       "      <td>9.000000</td>\n",
       "      <td>21.000000</td>\n",
       "      <td>207.000000</td>\n",
       "    </tr>\n",
       "    <tr>\n",
       "      <th>50%</th>\n",
       "      <td>3.400000</td>\n",
       "      <td>6.000000</td>\n",
       "      <td>12.600000</td>\n",
       "      <td>8.800000</td>\n",
       "      <td>10.900000</td>\n",
       "      <td>26.000000</td>\n",
       "      <td>251.000000</td>\n",
       "    </tr>\n",
       "    <tr>\n",
       "      <th>75%</th>\n",
       "      <td>4.300000</td>\n",
       "      <td>8.000000</td>\n",
       "      <td>15.550000</td>\n",
       "      <td>10.850000</td>\n",
       "      <td>13.350000</td>\n",
       "      <td>31.000000</td>\n",
       "      <td>294.000000</td>\n",
       "    </tr>\n",
       "    <tr>\n",
       "      <th>max</th>\n",
       "      <td>8.400000</td>\n",
       "      <td>12.000000</td>\n",
       "      <td>30.200000</td>\n",
       "      <td>20.500000</td>\n",
       "      <td>25.800000</td>\n",
       "      <td>60.000000</td>\n",
       "      <td>488.000000</td>\n",
       "    </tr>\n",
       "  </tbody>\n",
       "</table>\n",
       "</div>"
      ],
      "text/plain": [
       "        ENGINESIZE    CYLINDERS  FUELCONSUMPTION_CITY  FUELCONSUMPTION_HWY  \\\n",
       "count  1067.000000  1067.000000           1067.000000          1067.000000   \n",
       "mean      3.346298     5.794752             13.296532             9.474602   \n",
       "std       1.415895     1.797447              4.101253             2.794510   \n",
       "min       1.000000     3.000000              4.600000             4.900000   \n",
       "25%       2.000000     4.000000             10.250000             7.500000   \n",
       "50%       3.400000     6.000000             12.600000             8.800000   \n",
       "75%       4.300000     8.000000             15.550000            10.850000   \n",
       "max       8.400000    12.000000             30.200000            20.500000   \n",
       "\n",
       "       FUELCONSUMPTION_COMB  FUELCONSUMPTION_COMB_MPG  CO2EMISSIONS  \n",
       "count           1067.000000               1067.000000   1067.000000  \n",
       "mean              11.580881                 26.441425    256.228679  \n",
       "std                3.485595                  7.468702     63.372304  \n",
       "min                4.700000                 11.000000    108.000000  \n",
       "25%                9.000000                 21.000000    207.000000  \n",
       "50%               10.900000                 26.000000    251.000000  \n",
       "75%               13.350000                 31.000000    294.000000  \n",
       "max               25.800000                 60.000000    488.000000  "
      ]
     },
     "execution_count": 19,
     "metadata": {},
     "output_type": "execute_result"
    }
   ],
   "source": [
    "fuel.describe()"
   ]
  },
  {
   "cell_type": "code",
   "execution_count": null,
   "id": "ea2fa004",
   "metadata": {},
   "outputs": [],
   "source": []
  },
  {
   "cell_type": "code",
   "execution_count": 20,
   "id": "8eff7707",
   "metadata": {},
   "outputs": [
    {
     "data": {
      "text/plain": [
       "3.3500000000000014"
      ]
     },
     "execution_count": 20,
     "metadata": {},
     "output_type": "execute_result"
    }
   ],
   "source": [
    "## Interquartile range using box plot\n",
    "## st.iqr\n",
    "\n",
    "st.iqr(fuel.FUELCONSUMPTION_HWY)"
   ]
  },
  {
   "cell_type": "code",
   "execution_count": 21,
   "id": "eb18df0d",
   "metadata": {},
   "outputs": [
    {
     "data": {
      "image/png": "[encoded data removed]",
      "text/plain": [
       "<Figure size 432x288 with 1 Axes>"
      ]
     },
     "metadata": {
      "needs_background": "light"
     },
     "output_type": "display_data"
    }
   ],
   "source": [
    "plt.boxplot(fuel.FUELCONSUMPTION_HWY)\n",
    "plt.show()"
   ]
  },
  {
   "cell_type": "code",
   "execution_count": 22,
   "id": "d9cd3571",
   "metadata": {},
   "outputs": [
    {
     "data": {
      "image/png": "[encoded data removed]",
      "text/plain": [
       "<Figure size 432x288 with 1 Axes>"
      ]
     },
     "metadata": {
      "needs_background": "light"
     },
     "output_type": "display_data"
    }
   ],
   "source": [
    "plt.boxplot(fuel.FUELCONSUMPTION_COMB_MPG)\n",
    "plt.show()"
   ]
  },
  {
   "cell_type": "code",
   "execution_count": 23,
   "id": "c4f9a5d8",
   "metadata": {},
   "outputs": [
    {
     "data": {
      "text/plain": [
       "10.0"
      ]
     },
     "execution_count": 23,
     "metadata": {},
     "output_type": "execute_result"
    }
   ],
   "source": [
    "st.iqr(fuel.FUELCONSUMPTION_COMB_MPG)"
   ]
  },
  {
   "cell_type": "code",
   "execution_count": null,
   "id": "91083bc9",
   "metadata": {},
   "outputs": [],
   "source": []
  },
  {
   "cell_type": "code",
   "execution_count": 24,
   "id": "80ab9577",
   "metadata": {},
   "outputs": [
    {
     "data": {
      "text/plain": [
       "<function matplotlib.pyplot.show(close=None, block=None)>"
      ]
     },
     "execution_count": 24,
     "metadata": {},
     "output_type": "execute_result"
    },
    {
     "data": {
      "image/png": "[encoded data removed]",
      "text/plain": [
       "<Figure size 432x288 with 1 Axes>"
      ]
     },
     "metadata": {
      "needs_background": "light"
     },
     "output_type": "display_data"
    }
   ],
   "source": [
    "plt.boxplot([fuel.FUELCONSUMPTION_CITY, fuel.FUELCONSUMPTION_HWY, fuel.FUELCONSUMPTION_COMB], labels=['City', 'HWY', 'COMB'])\n",
    "plt.xlabel(\"Road Condition\")\n",
    "plt.ylabel(\"Fuel consumption\")\n",
    "plt.show"
   ]
  },
  {
   "cell_type": "code",
   "execution_count": 25,
   "id": "d2d5d6e9",
   "metadata": {},
   "outputs": [],
   "source": [
    "## What is the trend of the average fuel consumption in mpg by vehicle class\n"
   ]
  },
  {
   "cell_type": "code",
   "execution_count": 26,
   "id": "fb3524e8",
   "metadata": {},
   "outputs": [
    {
     "data": {
      "text/html": [
       "<div>\n",
       "<style scoped>\n",
       "    .dataframe tbody tr th:only-of-type {\n",
       "        vertical-align: middle;\n",
       "    }\n",
       "\n",
       "    .dataframe tbody tr th {\n",
       "        vertical-align: top;\n",
       "    }\n",
       "\n",
       "    .dataframe thead th {\n",
       "        text-align: right;\n",
       "    }\n",
       "</style>\n",
       "<table border=\"1\" class=\"dataframe\">\n",
       "  <thead>\n",
       "    <tr style=\"text-align: right;\">\n",
       "      <th></th>\n",
       "      <th>VEHICLECLASS</th>\n",
       "      <th>FUELCONSUMPTION_COMB_MPG</th>\n",
       "    </tr>\n",
       "  </thead>\n",
       "  <tbody>\n",
       "    <tr>\n",
       "      <th>0</th>\n",
       "      <td>COMPACT</td>\n",
       "      <td>31.145349</td>\n",
       "    </tr>\n",
       "    <tr>\n",
       "      <th>9</th>\n",
       "      <td>STATION WAGON - SMALL</td>\n",
       "      <td>30.861111</td>\n",
       "    </tr>\n",
       "    <tr>\n",
       "      <th>2</th>\n",
       "      <td>MID-SIZE</td>\n",
       "      <td>30.331461</td>\n",
       "    </tr>\n",
       "    <tr>\n",
       "      <th>8</th>\n",
       "      <td>STATION WAGON - MID-SIZE</td>\n",
       "      <td>30.166667</td>\n",
       "    </tr>\n",
       "    <tr>\n",
       "      <th>3</th>\n",
       "      <td>MINICOMPACT</td>\n",
       "      <td>28.957447</td>\n",
       "    </tr>\n",
       "  </tbody>\n",
       "</table>\n",
       "</div>"
      ],
      "text/plain": [
       "               VEHICLECLASS  FUELCONSUMPTION_COMB_MPG\n",
       "0                   COMPACT                 31.145349\n",
       "9     STATION WAGON - SMALL                 30.861111\n",
       "2                  MID-SIZE                 30.331461\n",
       "8  STATION WAGON - MID-SIZE                 30.166667\n",
       "3               MINICOMPACT                 28.957447"
      ]
     },
     "execution_count": 26,
     "metadata": {},
     "output_type": "execute_result"
    }
   ],
   "source": [
    "fuel_class = fuel.groupby(fuel.VEHICLECLASS)[['FUELCONSUMPTION_COMB_MPG']].mean().reset_index().sort_values(by=\"FUELCONSUMPTION_COMB_MPG\", ascending = False)\n",
    "fuel_class.head()"
   ]
  },
  {
   "cell_type": "code",
   "execution_count": 27,
   "id": "a03456da",
   "metadata": {},
   "outputs": [
    {
     "data": {
      "image/png": "[encoded data removed]",
      "text/plain": [
       "<Figure size 432x288 with 1 Axes>"
      ]
     },
     "metadata": {
      "needs_background": "light"
     },
     "output_type": "display_data"
    }
   ],
   "source": [
    "plt.barh(fuel_class.VEHICLECLASS, fuel_class.FUELCONSUMPTION_COMB_MPG)\n",
    "plt.show()"
   ]
  },
  {
   "cell_type": "code",
   "execution_count": 28,
   "id": "a6a65a31",
   "metadata": {},
   "outputs": [],
   "source": [
    "# median fue consumption in highway"
   ]
  },
  {
   "cell_type": "code",
   "execution_count": 29,
   "id": "4b1dd64a",
   "metadata": {},
   "outputs": [
    {
     "data": {
      "image/png": "[encoded data removed]",
      "text/plain": [
       "<Figure size 432x288 with 1 Axes>"
      ]
     },
     "metadata": {
      "needs_background": "light"
     },
     "output_type": "display_data"
    }
   ],
   "source": [
    "avg_fuel = fuel.groupby('VEHICLECLASS')[['FUELCONSUMPTION_HWY']].median().reset_index().sort_values(\"FUELCONSUMPTION_HWY\", ascending=False)\n",
    "plt.barh(avg_fuel.VEHICLECLASS, avg_fuel.FUELCONSUMPTION_HWY)\n",
    "plt.show()"
   ]
  },
  {
   "cell_type": "code",
   "execution_count": null,
   "id": "8faaf558",
   "metadata": {},
   "outputs": [],
   "source": []
  },
  {
   "cell_type": "markdown",
   "id": "0a6e7958",
   "metadata": {},
   "source": [
    "## DATA DISTRIBUTION and SKEWNESS\n",
    "\n",
    "* Normal distribution\n",
    "* "
   ]
  },
  {
   "cell_type": "code",
   "execution_count": 30,
   "id": "b7283e33",
   "metadata": {},
   "outputs": [
    {
     "data": {
      "text/plain": [
       "1.2620814260248627"
      ]
     },
     "execution_count": 30,
     "metadata": {},
     "output_type": "execute_result"
    }
   ],
   "source": [
    "# Normal distribution\n",
    "st.skew(fuel.FUELCONSUMPTION_HWY)\n",
    "              # As skew value more than 1 i.e the data is highly skewed"
   ]
  },
  {
   "cell_type": "code",
   "execution_count": 31,
   "id": "5096c0f9",
   "metadata": {},
   "outputs": [
    {
     "data": {
      "text/plain": [
       "0.5187840084529483"
      ]
     },
     "execution_count": 31,
     "metadata": {},
     "output_type": "execute_result"
    }
   ],
   "source": [
    "st.skew(fuel.CO2EMISSIONS)\n",
    " ## As skew value between 0 to 1 i.e the data is approximately symetric"
   ]
  },
  {
   "cell_type": "code",
   "execution_count": null,
   "id": "cf27bf23",
   "metadata": {},
   "outputs": [],
   "source": []
  },
  {
   "cell_type": "code",
   "execution_count": 32,
   "id": "f84053d7",
   "metadata": {},
   "outputs": [],
   "source": [
    "# to visualize skewness"
   ]
  },
  {
   "cell_type": "code",
   "execution_count": 33,
   "id": "5595e19f",
   "metadata": {},
   "outputs": [],
   "source": [
    "import seaborn as sns"
   ]
  },
  {
   "cell_type": "code",
   "execution_count": 34,
   "id": "e9e41257",
   "metadata": {},
   "outputs": [
    {
     "data": {
      "image/png": "[encoded data removed]",
      "text/plain": [
       "<Figure size 432x288 with 1 Axes>"
      ]
     },
     "metadata": {
      "needs_background": "light"
     },
     "output_type": "display_data"
    }
   ],
   "source": [
    "sns.kdeplot(fuel.CO2EMISSIONS, shade= True, label = 'CO2 emission', legend = True)\n",
    "plt.show()"
   ]
  },
  {
   "cell_type": "code",
   "execution_count": 35,
   "id": "be8a8550",
   "metadata": {},
   "outputs": [
    {
     "data": {
      "image/png": "[encoded data removed]",
      "text/plain": [
       "<Figure size 432x288 with 1 Axes>"
      ]
     },
     "metadata": {
      "needs_background": "light"
     },
     "output_type": "display_data"
    }
   ],
   "source": [
    "sns.kdeplot(fuel.FUELCONSUMPTION_HWY, shade= True, legend = True)\n",
    "sns.kdeplot(fuel.FUELCONSUMPTION_CITY, shade= True, legend = True)\n",
    "sns.kdeplot(fuel.FUELCONSUMPTION_COMB, shade= True, legend = True)\n",
    "\n",
    "\n",
    "plt.show()"
   ]
  },
  {
   "cell_type": "code",
   "execution_count": null,
   "id": "ad7f9920",
   "metadata": {},
   "outputs": [],
   "source": []
  },
  {
   "cell_type": "markdown",
   "id": "a56a349d",
   "metadata": {},
   "source": [
    "# Correlation\n",
    "* If the two variable shows relation, it calls correlation. \n"
   ]
  },
  {
   "cell_type": "code",
   "execution_count": 36,
   "id": "08c92688",
   "metadata": {},
   "outputs": [
    {
     "data": {
      "text/plain": [
       "(0.8741543683958124, 0.0)"
      ]
     },
     "execution_count": 36,
     "metadata": {},
     "output_type": "execute_result"
    }
   ],
   "source": [
    "## Pearsons correlation lies between -1 nad 1 and it helps to identify the strength of hte relationship between variables.\n",
    "## Scatter plot helps to identify if a erlationship exist, direction \n",
    "\n",
    "# st.pearsonr()\n",
    "\n",
    "# PS : find the correlation between engine size and co2 emmision\n",
    "\n",
    "st.pearsonr(fuel.ENGINESIZE, fuel.CO2EMISSIONS)\n",
    "\n",
    "\n",
    "# strong +ve "
   ]
  },
  {
   "cell_type": "code",
   "execution_count": 37,
   "id": "e6bb15f7",
   "metadata": {},
   "outputs": [
    {
     "data": {
      "text/plain": [
       "(-0.9063942295226133, 0.0)"
      ]
     },
     "execution_count": 37,
     "metadata": {},
     "output_type": "execute_result"
    }
   ],
   "source": [
    "# PS: find the correlation between co2 emmision and fuel consumption_mpg\n",
    "\n",
    "st.pearsonr(fuel.CO2EMISSIONS, fuel.FUELCONSUMPTION_COMB_MPG)\n",
    "   # strong -ve correlation"
   ]
  },
  {
   "cell_type": "code",
   "execution_count": 38,
   "id": "edb42e54",
   "metadata": {},
   "outputs": [
    {
     "data": {
      "image/png": "[encoded data removed]",
      "text/plain": [
       "<Figure size 432x288 with 1 Axes>"
      ]
     },
     "metadata": {
      "needs_background": "light"
     },
     "output_type": "display_data"
    }
   ],
   "source": [
    "plt.scatter(fuel.ENGINESIZE, fuel.CO2EMISSIONS)\n",
    "plt.show()"
   ]
  },
  {
   "cell_type": "code",
   "execution_count": 39,
   "id": "38611cb1",
   "metadata": {},
   "outputs": [
    {
     "data": {
      "image/png": "[encoded data removed]",
      "text/plain": [
       "<Figure size 432x288 with 1 Axes>"
      ]
     },
     "metadata": {
      "needs_background": "light"
     },
     "output_type": "display_data"
    }
   ],
   "source": [
    "plt.scatter(fuel.CO2EMISSIONS, fuel.FUELCONSUMPTION_COMB_MPG)\n",
    "plt.show()"
   ]
  },
  {
   "cell_type": "code",
   "execution_count": null,
   "id": "2371583e",
   "metadata": {},
   "outputs": [],
   "source": []
  },
  {
   "cell_type": "markdown",
   "id": "727b62e1",
   "metadata": {},
   "source": [
    "# Inferential statistics\n",
    "\n",
    "- Hypothesis\n",
    "- Types of hypothesis test and when to use\n",
    "- Steps to run hypothesis test\n",
    "- p value\n"
   ]
  },
  {
   "cell_type": "markdown",
   "id": "0b78f93c",
   "metadata": {},
   "source": [
    "## Hypothesis\n",
    "- A proposition based on assumptions.\n",
    "- 90%, 98% and 99% confidence levels acceptable\n",
    "- Significance level = 1- confidence level\n",
    "- "
   ]
  },
  {
   "cell_type": "markdown",
   "id": "e8d45b6e",
   "metadata": {},
   "source": [
    "### null Hypothesis\n",
    "                     - no relationship, equate sign\n",
    "### alternative hypothesis\n",
    "                      - not equal to: two tailed test\n",
    "                      - greater than, less than: one tailed test "
   ]
  },
  {
   "cell_type": "markdown",
   "id": "614ae2bd",
   "metadata": {},
   "source": [
    "## p value  \n",
    "       #> p value > significance level: accept null hyp, reject alternate hyp\n",
    "       #> p value < significance level: reject null hyp, accept alternate hyp\n",
    "  \n",
    "#~~~~~~~~~~~~~~~~~~~~~~~~~~~~~~~~~~~~~~~~~~~~~~~~~~~~~~\n",
    "#EX:  p value = 0.025 at 95% confidence level.\n"
   ]
  },
  {
   "cell_type": "markdown",
   "id": "68ac7fb1",
   "metadata": {},
   "source": [
    "Steps to perform hypothesis testing\n",
    "\n",
    "1) state the hypothesis\n",
    "2) Decide on confidence and significance level\n",
    "3) Choose a type of test\n",
    "4) Gather evidence (conduct the test)\n",
    "5) Compare the p value with alpha\n",
    "6) conclusion\n",
    "\n",
    "\n",
    "### 1 sample test : claimed value\n",
    "### 2 sample : compare two variable\n",
    "### multisample test : more than 2 variables\n"
   ]
  },
  {
   "cell_type": "code",
   "execution_count": 40,
   "id": "646ee980",
   "metadata": {},
   "outputs": [],
   "source": [
    "# 1 sample test : claimed value\n",
    "\n",
    "# blanket statement: fuel consumption  in the city road is claimed to be 10 lit for per 100 kms.\n",
    "\n",
    "    ## null: average fuel consumption of compact cars= 10l/100km\n",
    "    ## alt: Average fuel consumption of compact cars != 10l/100kms\n",
    "    ## confidence level = 95%, therefore, signification level = 5%\n",
    "    \n",
    "    #> 1 sample t test\n",
    "    \n",
    "    "
   ]
  },
  {
   "cell_type": "code",
   "execution_count": 41,
   "id": "5d01bc1e",
   "metadata": {},
   "outputs": [
    {
     "data": {
      "text/plain": [
       "(172,)"
      ]
     },
     "execution_count": 41,
     "metadata": {},
     "output_type": "execute_result"
    }
   ],
   "source": [
    "compact = fuel['FUELCONSUMPTION_CITY'][fuel['VEHICLECLASS']=='COMPACT']\n",
    "compact.head()\n",
    "compact.shape"
   ]
  },
  {
   "cell_type": "code",
   "execution_count": 42,
   "id": "0724681c",
   "metadata": {},
   "outputs": [],
   "source": [
    "# creating sample\n",
    "compact_sample = compact.sample(50)\n"
   ]
  },
  {
   "cell_type": "code",
   "execution_count": 43,
   "id": "89466c11",
   "metadata": {},
   "outputs": [
    {
     "data": {
      "text/plain": [
       "Ttest_1sampResult(statistic=0.8032871213565873, pvalue=0.42568837577685603)"
      ]
     },
     "execution_count": 43,
     "metadata": {},
     "output_type": "execute_result"
    }
   ],
   "source": [
    "## st.ttest_1sample()\n",
    "\n",
    "st.ttest_1samp(compact_sample, 10)    # 10 is a claimed value"
   ]
  },
  {
   "cell_type": "code",
   "execution_count": 44,
   "id": "f85dc9ff",
   "metadata": {},
   "outputs": [],
   "source": [
    "## since p value > 0.05, accept the NULL hypothesis"
   ]
  },
  {
   "cell_type": "code",
   "execution_count": null,
   "id": "98b8f0b2",
   "metadata": {},
   "outputs": [],
   "source": []
  },
  {
   "cell_type": "code",
   "execution_count": 45,
   "id": "4b148b0a",
   "metadata": {},
   "outputs": [
    {
     "data": {
      "text/plain": [
       "(110,)"
      ]
     },
     "execution_count": 45,
     "metadata": {},
     "output_type": "execute_result"
    }
   ],
   "source": [
    "# problem 2: # blanket statement: fuel consumption  in the city road is claimed to be 10 lit for per 100 kms for SUV - standard.\n",
    "\n",
    "suv_std = fuel['FUELCONSUMPTION_CITY'][fuel['VEHICLECLASS']=='SUV - STANDARD']\n",
    "suv_std.head()\n",
    "suv_std.shape"
   ]
  },
  {
   "cell_type": "code",
   "execution_count": 46,
   "id": "4a8f8f64",
   "metadata": {},
   "outputs": [],
   "source": [
    "# creating sample\n",
    "suv_std_sample = suv_std.sample(50)\n"
   ]
  },
  {
   "cell_type": "code",
   "execution_count": 47,
   "id": "efb33b28",
   "metadata": {},
   "outputs": [
    {
     "data": {
      "text/plain": [
       "Ttest_1sampResult(statistic=11.493458231718737, pvalue=1.6250071237629652e-15)"
      ]
     },
     "execution_count": 47,
     "metadata": {},
     "output_type": "execute_result"
    }
   ],
   "source": [
    "st.ttest_1samp(suv_std_sample, 10)"
   ]
  },
  {
   "cell_type": "code",
   "execution_count": 48,
   "id": "35e312e6",
   "metadata": {},
   "outputs": [],
   "source": [
    "# here p < 0.05, reject null "
   ]
  },
  {
   "cell_type": "code",
   "execution_count": null,
   "id": "82d92ca0",
   "metadata": {},
   "outputs": [],
   "source": []
  },
  {
   "cell_type": "markdown",
   "id": "2452ee79",
   "metadata": {},
   "source": [
    "## 2 sample t test\n",
    "\n",
    "## take same 1st que\n",
    "\n",
    "### NULL : fuel consumption of compact and std are the same\n",
    "### Alt: Fuel consumption of compact and suv atd are not the same\n",
    "### confidence: 90%, sign: 10%\n"
   ]
  },
  {
   "cell_type": "code",
   "execution_count": null,
   "id": "f2a9b23a",
   "metadata": {},
   "outputs": [],
   "source": []
  },
  {
   "cell_type": "code",
   "execution_count": 49,
   "id": "80dabb15",
   "metadata": {
    "scrolled": true
   },
   "outputs": [
    {
     "data": {
      "text/plain": [
       "Ttest_indResult(statistic=-9.855968109006154, pvalue=2.486062781631646e-16)"
      ]
     },
     "execution_count": 49,
     "metadata": {},
     "output_type": "execute_result"
    }
   ],
   "source": [
    "st.ttest_ind(compact_sample, suv_std_sample)\n"
   ]
  },
  {
   "cell_type": "code",
   "execution_count": 50,
   "id": "ad1d3675",
   "metadata": {},
   "outputs": [],
   "source": [
    "## reject null and accept the alt hypo, there is no enough evidence to support the null hypothesis\n"
   ]
  },
  {
   "cell_type": "markdown",
   "id": "32b8278a",
   "metadata": {},
   "source": [
    "## Anova test"
   ]
  },
  {
   "cell_type": "code",
   "execution_count": 51,
   "id": "b0032902",
   "metadata": {},
   "outputs": [],
   "source": [
    "# compare fuel consumption with VAN - PASSENGER "
   ]
  },
  {
   "cell_type": "code",
   "execution_count": 52,
   "id": "de041f99",
   "metadata": {},
   "outputs": [
    {
     "data": {
      "text/plain": [
       "(25,)"
      ]
     },
     "execution_count": 52,
     "metadata": {},
     "output_type": "execute_result"
    }
   ],
   "source": [
    "van = fuel['FUELCONSUMPTION_CITY'][fuel['VEHICLECLASS']=='VAN - PASSENGER']\n",
    "van.head()\n",
    "van.shape"
   ]
  },
  {
   "cell_type": "code",
   "execution_count": 53,
   "id": "67207e00",
   "metadata": {},
   "outputs": [],
   "source": [
    "van_sample = van.sample(20)"
   ]
  },
  {
   "cell_type": "code",
   "execution_count": 54,
   "id": "0cd66fd4",
   "metadata": {},
   "outputs": [],
   "source": [
    "## ANOVA test : when more than 2 veriable we do anova test\n",
    "## st.f_oneway()\n",
    "\n",
    "\n",
    "### NULL : fuel consumption of compact SUV and van  are the same\n",
    "### Alt: Fuel consumption of compact and suv atd are not the same\n",
    "### confidence: 90%, sign: 10%"
   ]
  },
  {
   "cell_type": "code",
   "execution_count": 55,
   "id": "88bcde18",
   "metadata": {},
   "outputs": [
    {
     "data": {
      "text/plain": [
       "F_onewayResult(statistic=376.31925807124486, pvalue=2.0077633900356637e-29)"
      ]
     },
     "execution_count": 55,
     "metadata": {},
     "output_type": "execute_result"
    }
   ],
   "source": [
    "st.f_oneway(compact_sample, van_sample)"
   ]
  },
  {
   "cell_type": "code",
   "execution_count": 56,
   "id": "b66b7553",
   "metadata": {},
   "outputs": [],
   "source": [
    "# p value < 0.05, accept the alternative hypothesis, there is not enough evidence to support the null hypothesis, \n"
   ]
  },
  {
   "cell_type": "code",
   "execution_count": null,
   "id": "6bb66d51",
   "metadata": {},
   "outputs": [],
   "source": []
  },
  {
   "cell_type": "markdown",
   "id": "a406ae8a",
   "metadata": {},
   "source": [
    "### pre t test: we do this test on same people/sample\n"
   ]
  },
  {
   "cell_type": "code",
   "execution_count": 60,
   "id": "807d181d",
   "metadata": {},
   "outputs": [
    {
     "data": {
      "text/plain": [
       "(20, 2)"
      ]
     },
     "execution_count": 60,
     "metadata": {},
     "output_type": "execute_result"
    }
   ],
   "source": [
    "breakups = pd.read_csv(\"breakups.csv\")\n",
    "breakups.head()\n",
    "breakups.shape"
   ]
  },
  {
   "cell_type": "code",
   "execution_count": 61,
   "id": "63357911",
   "metadata": {},
   "outputs": [
    {
     "data": {
      "text/plain": [
       "Ttest_relResult(statistic=-0.5375404241815105, pvalue=0.5971346738292477)"
      ]
     },
     "execution_count": 61,
     "metadata": {},
     "output_type": "execute_result"
    }
   ],
   "source": [
    "st.ttest_rel(breakups.Before_Breakup, breakups.After_Breakup)  # rel is relative"
   ]
  },
  {
   "cell_type": "code",
   "execution_count": null,
   "id": "61f897df",
   "metadata": {},
   "outputs": [],
   "source": [
    "# let confidence level 90%, p value > 0.05, accept null "
   ]
  },
  {
   "cell_type": "code",
   "execution_count": null,
   "id": "e2b41dda",
   "metadata": {},
   "outputs": [],
   "source": []
  },
  {
   "cell_type": "markdown",
   "id": "2024b64e",
   "metadata": {},
   "source": [
    "## Confidence interval\n",
    "we have a data frame\n",
    "we will take sample1\n",
    "again take another sample\n",
    "cofidence - 95%\n",
    "CO2 emmision\n",
    "\n",
    "confidence interval \n",
    "        ci = st.norm.interval(0.95, loc= fuel.CO2EMISSIONS.mean().scale =fuel.CO2EMISSIONS.std())\n"
   ]
  },
  {
   "cell_type": "code",
   "execution_count": 63,
   "id": "a7a0c9d9",
   "metadata": {},
   "outputs": [],
   "source": [
    "#confidence interval \n",
    "ci = st.norm.interval(0.95, loc= fuel.CO2EMISSIONS.mean(),scale =fuel.CO2EMISSIONS.std())\n"
   ]
  },
  {
   "cell_type": "code",
   "execution_count": 64,
   "id": "4284033a",
   "metadata": {},
   "outputs": [
    {
     "name": "stdout",
     "output_type": "stream",
     "text": [
      "The confidence interval at 95% confidence level is  [132.0212 380.4361]\n"
     ]
    }
   ],
   "source": [
    "print(\"The confidence interval at 95% confidence level is \", np.round(ci, 4))"
   ]
  },
  {
   "cell_type": "code",
   "execution_count": null,
   "id": "e04a081d",
   "metadata": {},
   "outputs": [],
   "source": []
  },
  {
   "cell_type": "code",
   "execution_count": null,
   "id": "2b8d30f4",
   "metadata": {},
   "outputs": [],
   "source": []
  },
  {
   "cell_type": "code",
   "execution_count": null,
   "id": "7bb229bd",
   "metadata": {},
   "outputs": [],
   "source": []
  },
  {
   "cell_type": "code",
   "execution_count": null,
   "id": "ca0b5493",
   "metadata": {},
   "outputs": [],
   "source": []
  },
  {
   "cell_type": "code",
   "execution_count": null,
   "id": "73b798ac",
   "metadata": {},
   "outputs": [],
   "source": []
  },
  {
   "cell_type": "code",
   "execution_count": null,
   "id": "9e9b2790",
   "metadata": {},
   "outputs": [],
   "source": []
  },
  {
   "cell_type": "code",
   "execution_count": null,
   "id": "3b0a33d2",
   "metadata": {},
   "outputs": [],
   "source": []
  },
  {
   "cell_type": "code",
   "execution_count": null,
   "id": "ada9879b",
   "metadata": {},
   "outputs": [],
   "source": []
  },
  {
   "cell_type": "code",
   "execution_count": null,
   "id": "41ca7c15",
   "metadata": {},
   "outputs": [],
   "source": []
  },
  {
   "cell_type": "code",
   "execution_count": null,
   "id": "55ac7e11",
   "metadata": {},
   "outputs": [],
   "source": []
  },
  {
   "cell_type": "code",
   "execution_count": null,
   "id": "45407e73",
   "metadata": {},
   "outputs": [],
   "source": []
  },
  {
   "cell_type": "code",
   "execution_count": null,
   "id": "db07e9df",
   "metadata": {},
   "outputs": [],
   "source": []
  },
  {
   "cell_type": "code",
   "execution_count": null,
   "id": "103be07b",
   "metadata": {},
   "outputs": [],
   "source": []
  },
  {
   "cell_type": "code",
   "execution_count": null,
   "id": "28a543e6",
   "metadata": {},
   "outputs": [],
   "source": []
  },
  {
   "cell_type": "code",
   "execution_count": null,
   "id": "ed50001f",
   "metadata": {},
   "outputs": [],
   "source": []
  },
  {
   "cell_type": "code",
   "execution_count": null,
   "id": "fbd5028e",
   "metadata": {},
   "outputs": [],
   "source": []
  },
  {
   "cell_type": "code",
   "execution_count": null,
   "id": "d652ce1f",
   "metadata": {},
   "outputs": [],
   "source": []
  },
  {
   "cell_type": "code",
   "execution_count": null,
   "id": "9e90bd69",
   "metadata": {},
   "outputs": [],
   "source": []
  },
  {
   "cell_type": "code",
   "execution_count": null,
   "id": "871e0e5f",
   "metadata": {},
   "outputs": [],
   "source": []
  },
  {
   "cell_type": "code",
   "execution_count": null,
   "id": "9fae7c1e",
   "metadata": {},
   "outputs": [],
   "source": []
  },
  {
   "cell_type": "code",
   "execution_count": null,
   "id": "da7bcbe6",
   "metadata": {},
   "outputs": [],
   "source": []
  },
  {
   "cell_type": "code",
   "execution_count": null,
   "id": "c43579f4",
   "metadata": {},
   "outputs": [],
   "source": []
  },
  {
   "cell_type": "code",
   "execution_count": null,
   "id": "d69efd13",
   "metadata": {},
   "outputs": [],
   "source": []
  },
  {
   "cell_type": "code",
   "execution_count": null,
   "id": "e6f81256",
   "metadata": {},
   "outputs": [],
   "source": []
  },
  {
   "cell_type": "code",
   "execution_count": null,
   "id": "fa374e4d",
   "metadata": {},
   "outputs": [],
   "source": []
  },
  {
   "cell_type": "code",
   "execution_count": null,
   "id": "a7708805",
   "metadata": {},
   "outputs": [],
   "source": []
  },
  {
   "cell_type": "code",
   "execution_count": null,
   "id": "c6fcae25",
   "metadata": {},
   "outputs": [],
   "source": []
  },
  {
   "cell_type": "code",
   "execution_count": null,
   "id": "9ba93163",
   "metadata": {},
   "outputs": [],
   "source": []
  },
  {
   "cell_type": "code",
   "execution_count": null,
   "id": "6c549969",
   "metadata": {},
   "outputs": [],
   "source": []
  },
  {
   "cell_type": "code",
   "execution_count": null,
   "id": "adc47a14",
   "metadata": {},
   "outputs": [],
   "source": []
  }
 ],
 "metadata": {
  "kernelspec": {
   "display_name": "Python 3 (ipykernel)",
   "language": "python",
   "name": "python3"
  },
  "language_info": {
   "codemirror_mode": {
    "name": "ipython",
    "version": 3
   },
   "file_extension": ".py",
   "mimetype": "text/x-python",
   "name": "python",
   "nbconvert_exporter": "python",
   "pygments_lexer": "ipython3",
   "version": "3.9.7"
  }
 },
 "nbformat": 4,
 "nbformat_minor": 5
}
