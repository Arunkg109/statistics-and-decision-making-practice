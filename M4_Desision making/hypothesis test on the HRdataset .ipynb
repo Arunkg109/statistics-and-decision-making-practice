{
 "cells": [
  {
   "cell_type": "markdown",
   "id": "b78cd260",
   "metadata": {},
   "source": [
    "### Perform a hypothesis test on the HRdataset_3 (given in the end) to find out if the department of IT/IS has an average salary of 80000 and for the Production department the average salary is 60000, Assume the confidence level is 95%.\n",
    "\n",
    "Identify the hypothesis statements Perform the test and find the pvalue Whats the conclusion?\n",
    "\n",
    "1. State your assumptions, if any\n",
    "2. Use proper comments in your code \n",
    "3. Download the files in html format and upload in the below space"
   ]
  },
  {
   "cell_type": "code",
   "execution_count": 7,
   "id": "f5141389",
   "metadata": {},
   "outputs": [],
   "source": [
    "# importing libraries\n",
    "\n",
    "import pandas as pd\n",
    "import numpy as np\n",
    "from scipy import stats as st\n",
    "\n"
   ]
  },
  {
   "cell_type": "code",
   "execution_count": 8,
   "id": "a2ef594a",
   "metadata": {},
   "outputs": [
    {
     "data": {
      "text/html": [
       "<div>\n",
       "<style scoped>\n",
       "    .dataframe tbody tr th:only-of-type {\n",
       "        vertical-align: middle;\n",
       "    }\n",
       "\n",
       "    .dataframe tbody tr th {\n",
       "        vertical-align: top;\n",
       "    }\n",
       "\n",
       "    .dataframe thead th {\n",
       "        text-align: right;\n",
       "    }\n",
       "</style>\n",
       "<table border=\"1\" class=\"dataframe\">\n",
       "  <thead>\n",
       "    <tr style=\"text-align: right;\">\n",
       "      <th></th>\n",
       "      <th>Employee_Name</th>\n",
       "      <th>EmpID</th>\n",
       "      <th>MarriedID</th>\n",
       "      <th>MaritalStatusID</th>\n",
       "      <th>GenderID</th>\n",
       "      <th>EmpStatusID</th>\n",
       "      <th>DeptID</th>\n",
       "      <th>PerfScoreID</th>\n",
       "      <th>FromDiversityJobFairID</th>\n",
       "      <th>Salary</th>\n",
       "      <th>...</th>\n",
       "      <th>ManagerID</th>\n",
       "      <th>RecruitmentSource</th>\n",
       "      <th>PerformanceScore</th>\n",
       "      <th>EngagementSurvey</th>\n",
       "      <th>EmpSatisfaction</th>\n",
       "      <th>SpecialProjectsCount</th>\n",
       "      <th>LastPerformanceReview_Date</th>\n",
       "      <th>DaysLateLast30</th>\n",
       "      <th>Absences</th>\n",
       "      <th>Age</th>\n",
       "    </tr>\n",
       "  </thead>\n",
       "  <tbody>\n",
       "    <tr>\n",
       "      <th>0</th>\n",
       "      <td>Adinolfi, Wilson  K</td>\n",
       "      <td>10026</td>\n",
       "      <td>0</td>\n",
       "      <td>0</td>\n",
       "      <td>1</td>\n",
       "      <td>1</td>\n",
       "      <td>5</td>\n",
       "      <td>4</td>\n",
       "      <td>0</td>\n",
       "      <td>62506</td>\n",
       "      <td>...</td>\n",
       "      <td>22.0</td>\n",
       "      <td>LinkedIn</td>\n",
       "      <td>Exceeds</td>\n",
       "      <td>4.60</td>\n",
       "      <td>5</td>\n",
       "      <td>0</td>\n",
       "      <td>1/17/2019</td>\n",
       "      <td>0</td>\n",
       "      <td>1</td>\n",
       "      <td>38</td>\n",
       "    </tr>\n",
       "    <tr>\n",
       "      <th>1</th>\n",
       "      <td>Ait Sidi, Karthikeyan</td>\n",
       "      <td>10084</td>\n",
       "      <td>1</td>\n",
       "      <td>1</td>\n",
       "      <td>1</td>\n",
       "      <td>5</td>\n",
       "      <td>3</td>\n",
       "      <td>3</td>\n",
       "      <td>0</td>\n",
       "      <td>104437</td>\n",
       "      <td>...</td>\n",
       "      <td>4.0</td>\n",
       "      <td>Indeed</td>\n",
       "      <td>Fully Meets</td>\n",
       "      <td>4.96</td>\n",
       "      <td>3</td>\n",
       "      <td>6</td>\n",
       "      <td>2/24/2016</td>\n",
       "      <td>0</td>\n",
       "      <td>17</td>\n",
       "      <td>46</td>\n",
       "    </tr>\n",
       "    <tr>\n",
       "      <th>2</th>\n",
       "      <td>Akinkuolie, Sarah</td>\n",
       "      <td>10196</td>\n",
       "      <td>1</td>\n",
       "      <td>1</td>\n",
       "      <td>0</td>\n",
       "      <td>5</td>\n",
       "      <td>5</td>\n",
       "      <td>3</td>\n",
       "      <td>0</td>\n",
       "      <td>64955</td>\n",
       "      <td>...</td>\n",
       "      <td>20.0</td>\n",
       "      <td>LinkedIn</td>\n",
       "      <td>Fully Meets</td>\n",
       "      <td>3.02</td>\n",
       "      <td>3</td>\n",
       "      <td>0</td>\n",
       "      <td>5/15/2012</td>\n",
       "      <td>0</td>\n",
       "      <td>3</td>\n",
       "      <td>33</td>\n",
       "    </tr>\n",
       "    <tr>\n",
       "      <th>3</th>\n",
       "      <td>Alagbe,Trina</td>\n",
       "      <td>10088</td>\n",
       "      <td>1</td>\n",
       "      <td>1</td>\n",
       "      <td>0</td>\n",
       "      <td>1</td>\n",
       "      <td>5</td>\n",
       "      <td>3</td>\n",
       "      <td>0</td>\n",
       "      <td>64991</td>\n",
       "      <td>...</td>\n",
       "      <td>16.0</td>\n",
       "      <td>Indeed</td>\n",
       "      <td>Fully Meets</td>\n",
       "      <td>4.84</td>\n",
       "      <td>5</td>\n",
       "      <td>0</td>\n",
       "      <td>1/3/2019</td>\n",
       "      <td>0</td>\n",
       "      <td>15</td>\n",
       "      <td>33</td>\n",
       "    </tr>\n",
       "    <tr>\n",
       "      <th>4</th>\n",
       "      <td>Anderson, Carol</td>\n",
       "      <td>10069</td>\n",
       "      <td>0</td>\n",
       "      <td>2</td>\n",
       "      <td>0</td>\n",
       "      <td>5</td>\n",
       "      <td>5</td>\n",
       "      <td>3</td>\n",
       "      <td>0</td>\n",
       "      <td>50825</td>\n",
       "      <td>...</td>\n",
       "      <td>39.0</td>\n",
       "      <td>Google Search</td>\n",
       "      <td>Fully Meets</td>\n",
       "      <td>5.00</td>\n",
       "      <td>4</td>\n",
       "      <td>0</td>\n",
       "      <td>2/1/2016</td>\n",
       "      <td>0</td>\n",
       "      <td>2</td>\n",
       "      <td>32</td>\n",
       "    </tr>\n",
       "  </tbody>\n",
       "</table>\n",
       "<p>5 rows × 37 columns</p>\n",
       "</div>"
      ],
      "text/plain": [
       "              Employee_Name  EmpID  MarriedID  MaritalStatusID  GenderID  \\\n",
       "0       Adinolfi, Wilson  K  10026          0                0         1   \n",
       "1  Ait Sidi, Karthikeyan     10084          1                1         1   \n",
       "2         Akinkuolie, Sarah  10196          1                1         0   \n",
       "3              Alagbe,Trina  10088          1                1         0   \n",
       "4          Anderson, Carol   10069          0                2         0   \n",
       "\n",
       "   EmpStatusID  DeptID  PerfScoreID  FromDiversityJobFairID  Salary  ...  \\\n",
       "0            1       5            4                       0   62506  ...   \n",
       "1            5       3            3                       0  104437  ...   \n",
       "2            5       5            3                       0   64955  ...   \n",
       "3            1       5            3                       0   64991  ...   \n",
       "4            5       5            3                       0   50825  ...   \n",
       "\n",
       "   ManagerID  RecruitmentSource PerformanceScore EngagementSurvey  \\\n",
       "0       22.0           LinkedIn          Exceeds             4.60   \n",
       "1        4.0             Indeed      Fully Meets             4.96   \n",
       "2       20.0           LinkedIn      Fully Meets             3.02   \n",
       "3       16.0             Indeed      Fully Meets             4.84   \n",
       "4       39.0      Google Search      Fully Meets             5.00   \n",
       "\n",
       "   EmpSatisfaction SpecialProjectsCount LastPerformanceReview_Date  \\\n",
       "0                5                    0                  1/17/2019   \n",
       "1                3                    6                  2/24/2016   \n",
       "2                3                    0                  5/15/2012   \n",
       "3                5                    0                   1/3/2019   \n",
       "4                4                    0                   2/1/2016   \n",
       "\n",
       "  DaysLateLast30 Absences Age  \n",
       "0              0        1  38  \n",
       "1              0       17  46  \n",
       "2              0        3  33  \n",
       "3              0       15  33  \n",
       "4              0        2  32  \n",
       "\n",
       "[5 rows x 37 columns]"
      ]
     },
     "execution_count": 8,
     "metadata": {},
     "output_type": "execute_result"
    }
   ],
   "source": [
    "# impoting data \n",
    "\n",
    "hr = pd.read_csv(\"F:\\Skillenable\\Data frames\\HRDataset-3.csv\")\n",
    "hr.head()"
   ]
  },
  {
   "cell_type": "markdown",
   "id": "836e3067",
   "metadata": {},
   "source": [
    "## For IT/IS department\n",
    "As per given data:\n",
    " cofidence level = 0.95, therefore significance level = 1- 0.95 = 0.05\n",
    " \n",
    "### Null hypothesis: the department of IT/IS has an average salary of 80000\n",
    "### Alternate hypothesis: the department of IT/IS has not an average salary of 80000\n",
    "\n"
   ]
  },
  {
   "cell_type": "code",
   "execution_count": 11,
   "id": "bac52e41",
   "metadata": {},
   "outputs": [
    {
     "data": {
      "text/plain": [
       "1     104437\n",
       "9      50178\n",
       "12     92328\n",
       "18    110000\n",
       "25    103613\n",
       "Name: Salary, dtype: int64"
      ]
     },
     "execution_count": 11,
     "metadata": {},
     "output_type": "execute_result"
    }
   ],
   "source": [
    "#required data\n",
    "\n",
    "IT_IS = hr['Salary'][hr['Department'] == 'IT/IS']\n",
    "IT_IS.head()"
   ]
  },
  {
   "cell_type": "code",
   "execution_count": 12,
   "id": "3c2f9f9c",
   "metadata": {},
   "outputs": [
    {
     "data": {
      "text/plain": [
       "238     89883\n",
       "48      68678\n",
       "239    120000\n",
       "113     61242\n",
       "162     81584\n",
       "99      65707\n",
       "261     66593\n",
       "287     76029\n",
       "262     87565\n",
       "309     89292\n",
       "Name: Salary, dtype: int64"
      ]
     },
     "execution_count": 12,
     "metadata": {},
     "output_type": "execute_result"
    }
   ],
   "source": [
    "#creating sample data of 10 samples\n",
    "\n",
    "IT_IS_sample = IT_IS.sample(10)\n",
    "IT_IS_sample"
   ]
  },
  {
   "cell_type": "code",
   "execution_count": 15,
   "id": "ba7b1a7e",
   "metadata": {},
   "outputs": [
    {
     "data": {
      "text/plain": [
       "Ttest_1sampResult(statistic=0.11957962112223075, pvalue=0.90744290582777)"
      ]
     },
     "execution_count": 15,
     "metadata": {},
     "output_type": "execute_result"
    }
   ],
   "source": [
    "# perform test (1 sample t test)\n",
    "st.ttest_1samp(IT_IS_sample, 80000)"
   ]
  },
  {
   "cell_type": "code",
   "execution_count": 16,
   "id": "9a69b812",
   "metadata": {},
   "outputs": [],
   "source": [
    "# Accept the null hypothesis , cause the  pvalue=0.07715085890026001 > 0.05 \n"
   ]
  },
  {
   "cell_type": "markdown",
   "id": "fc6af2ca",
   "metadata": {},
   "source": [
    "## For IT/IS department\n",
    "\n",
    " cofidence level = 0.95, therefore significance level = 1- 0.95 = 0.05\n",
    " \n",
    "### NULL Hypothesis : the Production department the average salary is 60000\n",
    "### Alternate Hypothesis: the Production department the average salary is not 60000"
   ]
  },
  {
   "cell_type": "code",
   "execution_count": 17,
   "id": "811b5917",
   "metadata": {},
   "outputs": [
    {
     "data": {
      "text/plain": [
       "(209,)"
      ]
     },
     "execution_count": 17,
     "metadata": {},
     "output_type": "execute_result"
    }
   ],
   "source": [
    "Production = hr['Salary'][hr['Department'] == 'Production       ']\n",
    "Production.shape\n",
    "\n"
   ]
  },
  {
   "cell_type": "code",
   "execution_count": 20,
   "id": "0c75ca43",
   "metadata": {},
   "outputs": [
    {
     "data": {
      "text/plain": [
       "122    54828\n",
       "263    64021\n",
       "173    52057\n",
       "246    47750\n",
       "38     52846\n",
       "Name: Salary, dtype: int64"
      ]
     },
     "execution_count": 20,
     "metadata": {},
     "output_type": "execute_result"
    }
   ],
   "source": [
    "# creating sample data of 50 samples\n",
    "Production_sample = Production.sample(50)\n",
    "Production_sample.head()"
   ]
  },
  {
   "cell_type": "code",
   "execution_count": 24,
   "id": "2d10ff95",
   "metadata": {},
   "outputs": [
    {
     "data": {
      "text/plain": [
       "Ttest_1sampResult(statistic=-0.5544877400941673, pvalue=0.5817672501601003)"
      ]
     },
     "execution_count": 24,
     "metadata": {},
     "output_type": "execute_result"
    }
   ],
   "source": [
    "# perform test (1 sample t test)\n",
    "st.ttest_1samp(Production_sample, 60000)"
   ]
  },
  {
   "cell_type": "code",
   "execution_count": 25,
   "id": "6c9e0d02",
   "metadata": {},
   "outputs": [],
   "source": [
    "\n",
    "# Accept the null hypothesis, Since the  pvalue=0.8897267625216853 > 0.05 "
   ]
  },
  {
   "cell_type": "code",
   "execution_count": null,
   "id": "a98cd26e",
   "metadata": {},
   "outputs": [],
   "source": []
  }
 ],
 "metadata": {
  "kernelspec": {
   "display_name": "Python 3 (ipykernel)",
   "language": "python",
   "name": "python3"
  },
  "language_info": {
   "codemirror_mode": {
    "name": "ipython",
    "version": 3
   },
   "file_extension": ".py",
   "mimetype": "text/x-python",
   "name": "python",
   "nbconvert_exporter": "python",
   "pygments_lexer": "ipython3",
   "version": "3.9.7"
  }
 },
 "nbformat": 4,
 "nbformat_minor": 5
}
