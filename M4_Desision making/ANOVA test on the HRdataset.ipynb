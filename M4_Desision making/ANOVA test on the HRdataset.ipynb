{
 "cells": [
  {
   "cell_type": "markdown",
   "id": "7767d04e",
   "metadata": {},
   "source": [
    "# Perform an ANOVA test on the HRdataset_3 (given at the end) to find out if the average salary of Production technician I, production technician II and Area Sales Manager is the same. \n",
    "\n",
    "- Identify the hypothesis statements\n",
    "- Perform the test and find the pvalue\n",
    "- Whats the conclusion? \n"
   ]
  },
  {
   "cell_type": "code",
   "execution_count": 1,
   "id": "e53e46ce",
   "metadata": {},
   "outputs": [],
   "source": [
    "# importing library\n",
    "\n",
    "import pandas as pd\n",
    "import numpy as np\n",
    "from scipy import stats as st\n"
   ]
  },
  {
   "cell_type": "code",
   "execution_count": 3,
   "id": "34eb90b3",
   "metadata": {},
   "outputs": [
    {
     "data": {
      "text/html": [
       "<div>\n",
       "<style scoped>\n",
       "    .dataframe tbody tr th:only-of-type {\n",
       "        vertical-align: middle;\n",
       "    }\n",
       "\n",
       "    .dataframe tbody tr th {\n",
       "        vertical-align: top;\n",
       "    }\n",
       "\n",
       "    .dataframe thead th {\n",
       "        text-align: right;\n",
       "    }\n",
       "</style>\n",
       "<table border=\"1\" class=\"dataframe\">\n",
       "  <thead>\n",
       "    <tr style=\"text-align: right;\">\n",
       "      <th></th>\n",
       "      <th>Employee_Name</th>\n",
       "      <th>EmpID</th>\n",
       "      <th>MarriedID</th>\n",
       "      <th>MaritalStatusID</th>\n",
       "      <th>GenderID</th>\n",
       "      <th>EmpStatusID</th>\n",
       "      <th>DeptID</th>\n",
       "      <th>PerfScoreID</th>\n",
       "      <th>FromDiversityJobFairID</th>\n",
       "      <th>Salary</th>\n",
       "      <th>...</th>\n",
       "      <th>ManagerID</th>\n",
       "      <th>RecruitmentSource</th>\n",
       "      <th>PerformanceScore</th>\n",
       "      <th>EngagementSurvey</th>\n",
       "      <th>EmpSatisfaction</th>\n",
       "      <th>SpecialProjectsCount</th>\n",
       "      <th>LastPerformanceReview_Date</th>\n",
       "      <th>DaysLateLast30</th>\n",
       "      <th>Absences</th>\n",
       "      <th>Age</th>\n",
       "    </tr>\n",
       "  </thead>\n",
       "  <tbody>\n",
       "    <tr>\n",
       "      <th>0</th>\n",
       "      <td>Adinolfi, Wilson  K</td>\n",
       "      <td>10026</td>\n",
       "      <td>0</td>\n",
       "      <td>0</td>\n",
       "      <td>1</td>\n",
       "      <td>1</td>\n",
       "      <td>5</td>\n",
       "      <td>4</td>\n",
       "      <td>0</td>\n",
       "      <td>62506</td>\n",
       "      <td>...</td>\n",
       "      <td>22.0</td>\n",
       "      <td>LinkedIn</td>\n",
       "      <td>Exceeds</td>\n",
       "      <td>4.60</td>\n",
       "      <td>5</td>\n",
       "      <td>0</td>\n",
       "      <td>1/17/2019</td>\n",
       "      <td>0</td>\n",
       "      <td>1</td>\n",
       "      <td>38</td>\n",
       "    </tr>\n",
       "    <tr>\n",
       "      <th>1</th>\n",
       "      <td>Ait Sidi, Karthikeyan</td>\n",
       "      <td>10084</td>\n",
       "      <td>1</td>\n",
       "      <td>1</td>\n",
       "      <td>1</td>\n",
       "      <td>5</td>\n",
       "      <td>3</td>\n",
       "      <td>3</td>\n",
       "      <td>0</td>\n",
       "      <td>104437</td>\n",
       "      <td>...</td>\n",
       "      <td>4.0</td>\n",
       "      <td>Indeed</td>\n",
       "      <td>Fully Meets</td>\n",
       "      <td>4.96</td>\n",
       "      <td>3</td>\n",
       "      <td>6</td>\n",
       "      <td>2/24/2016</td>\n",
       "      <td>0</td>\n",
       "      <td>17</td>\n",
       "      <td>46</td>\n",
       "    </tr>\n",
       "    <tr>\n",
       "      <th>2</th>\n",
       "      <td>Akinkuolie, Sarah</td>\n",
       "      <td>10196</td>\n",
       "      <td>1</td>\n",
       "      <td>1</td>\n",
       "      <td>0</td>\n",
       "      <td>5</td>\n",
       "      <td>5</td>\n",
       "      <td>3</td>\n",
       "      <td>0</td>\n",
       "      <td>64955</td>\n",
       "      <td>...</td>\n",
       "      <td>20.0</td>\n",
       "      <td>LinkedIn</td>\n",
       "      <td>Fully Meets</td>\n",
       "      <td>3.02</td>\n",
       "      <td>3</td>\n",
       "      <td>0</td>\n",
       "      <td>5/15/2012</td>\n",
       "      <td>0</td>\n",
       "      <td>3</td>\n",
       "      <td>33</td>\n",
       "    </tr>\n",
       "    <tr>\n",
       "      <th>3</th>\n",
       "      <td>Alagbe,Trina</td>\n",
       "      <td>10088</td>\n",
       "      <td>1</td>\n",
       "      <td>1</td>\n",
       "      <td>0</td>\n",
       "      <td>1</td>\n",
       "      <td>5</td>\n",
       "      <td>3</td>\n",
       "      <td>0</td>\n",
       "      <td>64991</td>\n",
       "      <td>...</td>\n",
       "      <td>16.0</td>\n",
       "      <td>Indeed</td>\n",
       "      <td>Fully Meets</td>\n",
       "      <td>4.84</td>\n",
       "      <td>5</td>\n",
       "      <td>0</td>\n",
       "      <td>1/3/2019</td>\n",
       "      <td>0</td>\n",
       "      <td>15</td>\n",
       "      <td>33</td>\n",
       "    </tr>\n",
       "    <tr>\n",
       "      <th>4</th>\n",
       "      <td>Anderson, Carol</td>\n",
       "      <td>10069</td>\n",
       "      <td>0</td>\n",
       "      <td>2</td>\n",
       "      <td>0</td>\n",
       "      <td>5</td>\n",
       "      <td>5</td>\n",
       "      <td>3</td>\n",
       "      <td>0</td>\n",
       "      <td>50825</td>\n",
       "      <td>...</td>\n",
       "      <td>39.0</td>\n",
       "      <td>Google Search</td>\n",
       "      <td>Fully Meets</td>\n",
       "      <td>5.00</td>\n",
       "      <td>4</td>\n",
       "      <td>0</td>\n",
       "      <td>2/1/2016</td>\n",
       "      <td>0</td>\n",
       "      <td>2</td>\n",
       "      <td>32</td>\n",
       "    </tr>\n",
       "  </tbody>\n",
       "</table>\n",
       "<p>5 rows × 37 columns</p>\n",
       "</div>"
      ],
      "text/plain": [
       "              Employee_Name  EmpID  MarriedID  MaritalStatusID  GenderID  \\\n",
       "0       Adinolfi, Wilson  K  10026          0                0         1   \n",
       "1  Ait Sidi, Karthikeyan     10084          1                1         1   \n",
       "2         Akinkuolie, Sarah  10196          1                1         0   \n",
       "3              Alagbe,Trina  10088          1                1         0   \n",
       "4          Anderson, Carol   10069          0                2         0   \n",
       "\n",
       "   EmpStatusID  DeptID  PerfScoreID  FromDiversityJobFairID  Salary  ...  \\\n",
       "0            1       5            4                       0   62506  ...   \n",
       "1            5       3            3                       0  104437  ...   \n",
       "2            5       5            3                       0   64955  ...   \n",
       "3            1       5            3                       0   64991  ...   \n",
       "4            5       5            3                       0   50825  ...   \n",
       "\n",
       "   ManagerID  RecruitmentSource PerformanceScore EngagementSurvey  \\\n",
       "0       22.0           LinkedIn          Exceeds             4.60   \n",
       "1        4.0             Indeed      Fully Meets             4.96   \n",
       "2       20.0           LinkedIn      Fully Meets             3.02   \n",
       "3       16.0             Indeed      Fully Meets             4.84   \n",
       "4       39.0      Google Search      Fully Meets             5.00   \n",
       "\n",
       "   EmpSatisfaction SpecialProjectsCount LastPerformanceReview_Date  \\\n",
       "0                5                    0                  1/17/2019   \n",
       "1                3                    6                  2/24/2016   \n",
       "2                3                    0                  5/15/2012   \n",
       "3                5                    0                   1/3/2019   \n",
       "4                4                    0                   2/1/2016   \n",
       "\n",
       "  DaysLateLast30 Absences Age  \n",
       "0              0        1  38  \n",
       "1              0       17  46  \n",
       "2              0        3  33  \n",
       "3              0       15  33  \n",
       "4              0        2  32  \n",
       "\n",
       "[5 rows x 37 columns]"
      ]
     },
     "execution_count": 3,
     "metadata": {},
     "output_type": "execute_result"
    }
   ],
   "source": [
    "# read data \n",
    "\n",
    "hr = pd.read_csv(\"F:\\Skillenable\\Data frames\\HRDataset-3.csv\")\n",
    "hr.head()"
   ]
  },
  {
   "cell_type": "markdown",
   "id": "e1999fd9",
   "metadata": {},
   "source": [
    "\n",
    " taking cofidence level = 0.95, therefore significance level = 1- 0.95 = 0.05\n",
    " \n",
    "### Null hypothesis: the average salary of Production technician I, production technician II and Area Sales Manager is the same. \n",
    "### Alternate hypothesis: the average salary of Production technician I, production technician II and Area Sales Manager is not same. "
   ]
  },
  {
   "cell_type": "code",
   "execution_count": 6,
   "id": "6496a4a8",
   "metadata": {},
   "outputs": [
    {
     "data": {
      "text/plain": [
       "(137,)"
      ]
     },
     "execution_count": 6,
     "metadata": {},
     "output_type": "execute_result"
    }
   ],
   "source": [
    "## creating data set for technician 1\n",
    "\n",
    "technician_1 = hr['Salary'][hr['Position'] == 'Production Technician I']\n",
    "technician_1.head()\n",
    "technician_1.shape"
   ]
  },
  {
   "cell_type": "code",
   "execution_count": 7,
   "id": "f284dca7",
   "metadata": {},
   "outputs": [
    {
     "data": {
      "text/plain": [
       "14     52505\n",
       "44     60380\n",
       "283    63025\n",
       "89     57748\n",
       "0      62506\n",
       "Name: Salary, dtype: int64"
      ]
     },
     "execution_count": 7,
     "metadata": {},
     "output_type": "execute_result"
    }
   ],
   "source": [
    "# creating sample data of 20 units\n",
    "\n",
    "technician_1_sample = technician_1.sample(20)\n",
    "technician_1_sample.head()"
   ]
  },
  {
   "cell_type": "code",
   "execution_count": 10,
   "id": "05fa4859",
   "metadata": {},
   "outputs": [
    {
     "data": {
      "text/plain": [
       "(57,)"
      ]
     },
     "execution_count": 10,
     "metadata": {},
     "output_type": "execute_result"
    }
   ],
   "source": [
    "## creating required data set for technician 2\n",
    "\n",
    "\n",
    "technician_2 = hr['Salary'][hr['Position'] == 'Production Technician II']\n",
    "technician_2.head()\n",
    "technician_2.shape"
   ]
  },
  {
   "cell_type": "code",
   "execution_count": 13,
   "id": "53b912e5",
   "metadata": {},
   "outputs": [
    {
     "data": {
      "text/plain": [
       "24     57815\n",
       "305    60446\n",
       "295    66541\n",
       "189    58207\n",
       "257    60656\n",
       "158    66074\n",
       "215    60270\n",
       "88     65902\n",
       "306    65893\n",
       "169    63450\n",
       "Name: Salary, dtype: int64"
      ]
     },
     "execution_count": 13,
     "metadata": {},
     "output_type": "execute_result"
    }
   ],
   "source": [
    "# creating sample data of 10 sample units\n",
    "\n",
    "technician_2_sample = technician_2.sample(10)\n",
    "technician_2_sample"
   ]
  },
  {
   "cell_type": "code",
   "execution_count": 14,
   "id": "7288bbcc",
   "metadata": {},
   "outputs": [
    {
     "data": {
      "text/plain": [
       "(27,)"
      ]
     },
     "execution_count": 14,
     "metadata": {},
     "output_type": "execute_result"
    }
   ],
   "source": [
    "## creating required data set for sales manager\n",
    "\n",
    "\n",
    "sales_manager = hr['Salary'][hr['Position'] == 'Area Sales Manager']\n",
    "sales_manager.head()\n",
    "sales_manager.shape"
   ]
  },
  {
   "cell_type": "code",
   "execution_count": 15,
   "id": "b6ea58b6",
   "metadata": {},
   "outputs": [
    {
     "data": {
      "text/plain": [
       "270    60120\n",
       "128    70545\n",
       "98     67251\n",
       "155    71339\n",
       "223    61844\n",
       "Name: Salary, dtype: int64"
      ]
     },
     "execution_count": 15,
     "metadata": {},
     "output_type": "execute_result"
    }
   ],
   "source": [
    "# creating sample data of 5 sample units\n",
    "\n",
    "sales_manager_sample = sales_manager.sample(5)\n",
    "sales_manager_sample"
   ]
  },
  {
   "cell_type": "code",
   "execution_count": 16,
   "id": "3cb07f0a",
   "metadata": {},
   "outputs": [
    {
     "data": {
      "text/plain": [
       "F_onewayResult(statistic=10.334180512353452, pvalue=0.0003448282129747614)"
      ]
     },
     "execution_count": 16,
     "metadata": {},
     "output_type": "execute_result"
    }
   ],
   "source": [
    "# perform ANOVA test\n",
    "\n",
    "st.f_oneway(technician_1_sample,technician_2_sample,sales_manager_sample)\n"
   ]
  },
  {
   "cell_type": "code",
   "execution_count": 17,
   "id": "e1204263",
   "metadata": {},
   "outputs": [],
   "source": [
    "# from test result: pvalue=1.9444413059559925e-06 < 0.05\n",
    "# Accept the alternate hypothesis, there is no sufficient evidence to support null hypothesis"
   ]
  },
  {
   "cell_type": "code",
   "execution_count": null,
   "id": "2e722cf6",
   "metadata": {},
   "outputs": [],
   "source": []
  }
 ],
 "metadata": {
  "kernelspec": {
   "display_name": "Python 3 (ipykernel)",
   "language": "python",
   "name": "python3"
  },
  "language_info": {
   "codemirror_mode": {
    "name": "ipython",
    "version": 3
   },
   "file_extension": ".py",
   "mimetype": "text/x-python",
   "name": "python",
   "nbconvert_exporter": "python",
   "pygments_lexer": "ipython3",
   "version": "3.9.7"
  }
 },
 "nbformat": 4,
 "nbformat_minor": 5
}
